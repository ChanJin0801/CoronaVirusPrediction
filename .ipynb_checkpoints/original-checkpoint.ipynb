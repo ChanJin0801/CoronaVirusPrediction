{
 "cells": [
  {
   "cell_type": "code",
   "execution_count": 1,
   "metadata": {},
   "outputs": [
    {
     "name": "stderr",
     "output_type": "stream",
     "text": [
      "/Users/parkchanjin/PycharmProjects/ml-work/venv/lib/python3.7/site-packages/google/colab/data_table.py:30: UserWarning:\n",
      "\n",
      "IPython.utils.traitlets has moved to a top-level traitlets package.\n",
      "\n"
     ]
    }
   ],
   "source": [
    "import pandas as pd\n",
    "import plotly.graph_objs as go\n",
    "import plotly.offline as py\n",
    "from fbprophet import Prophet\n",
    "from fbprophet.plot import plot_plotly, add_changepoints_to_plot\n",
    "import matplotlib.pyplot as plt"
   ]
  },
  {
   "cell_type": "markdown",
   "metadata": {},
   "source": [
    "# Loading data"
   ]
  },
  {
   "cell_type": "code",
   "execution_count": 2,
   "metadata": {},
   "outputs": [],
   "source": [
    "# Regional Confirmed cases dataframe across the world\n",
    "# 전세계 지역 별 확진자 dataframe\n",
    "url = 'https://raw.githubusercontent.com/CSSEGISandData/COVID-19/master/csse_covid_19_data/csse_covid_19_time_series/time_series_19-covid-Confirmed.csv'\n",
    "confirmed = pd.read_csv(url, error_bad_lines=False)\n",
    "\n",
    "# Regional Deceases cases dataframe across the world\n",
    "# 전세계 지역 별 사망자 dataframe\n",
    "url = 'https://raw.githubusercontent.com/CSSEGISandData/COVID-19/master/csse_covid_19_data/csse_covid_19_time_series/time_series_19-covid-Deaths.csv'\n",
    "death = pd.read_csv(url, error_bad_lines=False)\n",
    "\n",
    "# Regional Recovered cases dataframe across the world\n",
    "url = 'https://raw.githubusercontent.com/CSSEGISandData/COVID-19/master/csse_covid_19_data/csse_covid_19_time_series/time_series_19-covid-Recovered.csv'\n",
    "recover = pd.read_csv(url, error_bad_lines=False)"
   ]
  },
  {
   "cell_type": "code",
   "execution_count": 3,
   "metadata": {},
   "outputs": [
    {
     "data": {
      "text/html": [
       "<div>\n",
       "<style scoped>\n",
       "    .dataframe tbody tr th:only-of-type {\n",
       "        vertical-align: middle;\n",
       "    }\n",
       "\n",
       "    .dataframe tbody tr th {\n",
       "        vertical-align: top;\n",
       "    }\n",
       "\n",
       "    .dataframe thead th {\n",
       "        text-align: right;\n",
       "    }\n",
       "</style>\n",
       "<table border=\"1\" class=\"dataframe\">\n",
       "  <thead>\n",
       "    <tr style=\"text-align: right;\">\n",
       "      <th></th>\n",
       "      <th>Province/State</th>\n",
       "      <th>Country/Region</th>\n",
       "      <th>Lat</th>\n",
       "      <th>Long</th>\n",
       "      <th>1/22/20</th>\n",
       "      <th>1/23/20</th>\n",
       "      <th>1/24/20</th>\n",
       "      <th>1/25/20</th>\n",
       "      <th>1/26/20</th>\n",
       "      <th>1/27/20</th>\n",
       "      <th>...</th>\n",
       "      <th>3/2/20</th>\n",
       "      <th>3/3/20</th>\n",
       "      <th>3/4/20</th>\n",
       "      <th>3/5/20</th>\n",
       "      <th>3/6/20</th>\n",
       "      <th>3/7/20</th>\n",
       "      <th>3/8/20</th>\n",
       "      <th>3/9/20</th>\n",
       "      <th>3/10/20</th>\n",
       "      <th>3/11/20</th>\n",
       "    </tr>\n",
       "  </thead>\n",
       "  <tbody>\n",
       "    <tr>\n",
       "      <th>158</th>\n",
       "      <td>NaN</td>\n",
       "      <td>Korea, South</td>\n",
       "      <td>36.0</td>\n",
       "      <td>128.0</td>\n",
       "      <td>1</td>\n",
       "      <td>1</td>\n",
       "      <td>2</td>\n",
       "      <td>2</td>\n",
       "      <td>3</td>\n",
       "      <td>4</td>\n",
       "      <td>...</td>\n",
       "      <td>4335</td>\n",
       "      <td>5186</td>\n",
       "      <td>5621</td>\n",
       "      <td>6088</td>\n",
       "      <td>6593</td>\n",
       "      <td>7041</td>\n",
       "      <td>7314</td>\n",
       "      <td>7478</td>\n",
       "      <td>7513</td>\n",
       "      <td>7755</td>\n",
       "    </tr>\n",
       "  </tbody>\n",
       "</table>\n",
       "<p>1 rows × 54 columns</p>\n",
       "</div>"
      ],
      "text/plain": [
       "    Province/State Country/Region   Lat   Long  1/22/20  1/23/20  1/24/20  \\\n",
       "158            NaN   Korea, South  36.0  128.0        1        1        2   \n",
       "\n",
       "     1/25/20  1/26/20  1/27/20  ...  3/2/20  3/3/20  3/4/20  3/5/20  3/6/20  \\\n",
       "158        2        3        4  ...    4335    5186    5621    6088    6593   \n",
       "\n",
       "     3/7/20  3/8/20  3/9/20  3/10/20  3/11/20  \n",
       "158    7041    7314    7478     7513     7755  \n",
       "\n",
       "[1 rows x 54 columns]"
      ]
     },
     "execution_count": 3,
     "metadata": {},
     "output_type": "execute_result"
    }
   ],
   "source": [
    "df_korea = confirmed[confirmed['Country/Region'] == 'Korea, South']\n",
    "df_korea"
   ]
  },
  {
   "cell_type": "markdown",
   "metadata": {},
   "source": [
    "# Mining data"
   ]
  },
  {
   "cell_type": "code",
   "execution_count": 4,
   "metadata": {},
   "outputs": [
    {
     "data": {
      "text/html": [
       "<div>\n",
       "<style scoped>\n",
       "    .dataframe tbody tr th:only-of-type {\n",
       "        vertical-align: middle;\n",
       "    }\n",
       "\n",
       "    .dataframe tbody tr th {\n",
       "        vertical-align: top;\n",
       "    }\n",
       "\n",
       "    .dataframe thead th {\n",
       "        text-align: right;\n",
       "    }\n",
       "</style>\n",
       "<table border=\"1\" class=\"dataframe\">\n",
       "  <thead>\n",
       "    <tr style=\"text-align: right;\">\n",
       "      <th></th>\n",
       "      <th>date</th>\n",
       "      <th>confirmed</th>\n",
       "    </tr>\n",
       "  </thead>\n",
       "  <tbody>\n",
       "    <tr>\n",
       "      <th>45</th>\n",
       "      <td>2020-03-07</td>\n",
       "      <td>7041</td>\n",
       "    </tr>\n",
       "    <tr>\n",
       "      <th>46</th>\n",
       "      <td>2020-03-08</td>\n",
       "      <td>7314</td>\n",
       "    </tr>\n",
       "    <tr>\n",
       "      <th>47</th>\n",
       "      <td>2020-03-09</td>\n",
       "      <td>7478</td>\n",
       "    </tr>\n",
       "    <tr>\n",
       "      <th>48</th>\n",
       "      <td>2020-03-10</td>\n",
       "      <td>7513</td>\n",
       "    </tr>\n",
       "    <tr>\n",
       "      <th>49</th>\n",
       "      <td>2020-03-11</td>\n",
       "      <td>7755</td>\n",
       "    </tr>\n",
       "  </tbody>\n",
       "</table>\n",
       "</div>"
      ],
      "text/plain": [
       "         date confirmed\n",
       "45 2020-03-07      7041\n",
       "46 2020-03-08      7314\n",
       "47 2020-03-09      7478\n",
       "48 2020-03-10      7513\n",
       "49 2020-03-11      7755"
      ]
     },
     "execution_count": 4,
     "metadata": {},
     "output_type": "execute_result"
    }
   ],
   "source": [
    "df_korea = df_korea.T[4:]\n",
    "\n",
    "# Make Korean confirmed timeseries dataframe into two rows: date and number of confirmed cases\n",
    "# 한국 확진자 시계열 데이터프레임을 두 개의 열로 만듭니다: 날짜, 확진자 수\n",
    "df_korea = df_korea.reset_index().rename(columns={'index': 'date', 158: 'confirmed'})\n",
    "\n",
    "df_korea['date'] = pd.to_datetime(df_korea['date'])\n",
    "\n",
    "# Check the most recent 5 days of Korean confirmed cases \n",
    "# 한국 확진자 시계열 데이터프레임의 제일 최근 5일 간의 데이터를 확인합니다\n",
    "df_korea.tail()"
   ]
  },
  {
   "cell_type": "code",
   "execution_count": 5,
   "metadata": {},
   "outputs": [
    {
     "data": {
      "image/png": "[encoded data removed]",
      "text/plain": [
       "<Figure size 1440x720 with 1 Axes>"
      ]
     },
     "metadata": {},
     "output_type": "display_data"
    }
   ],
   "source": [
    "plt.figure(facecolor='white', figsize=(20, 10))\n",
    "\n",
    "plt.plot(df_korea.date, df_korea.confirmed, \n",
    "            label=\"confirmed in Korea\")\n",
    "plt.xlabel(\"Date\")\n",
    "plt.ylabel(\"Confirmed\")\n",
    "plt.legend()\n",
    "plt.show()"
   ]
  },
  {
   "cell_type": "code",
   "execution_count": 6,
   "metadata": {},
   "outputs": [
    {
     "data": {
      "text/html": [
       "<div>\n",
       "<style scoped>\n",
       "    .dataframe tbody tr th:only-of-type {\n",
       "        vertical-align: middle;\n",
       "    }\n",
       "\n",
       "    .dataframe tbody tr th {\n",
       "        vertical-align: top;\n",
       "    }\n",
       "\n",
       "    .dataframe thead th {\n",
       "        text-align: right;\n",
       "    }\n",
       "</style>\n",
       "<table border=\"1\" class=\"dataframe\">\n",
       "  <thead>\n",
       "    <tr style=\"text-align: right;\">\n",
       "      <th></th>\n",
       "      <th>ds</th>\n",
       "      <th>y</th>\n",
       "    </tr>\n",
       "  </thead>\n",
       "  <tbody>\n",
       "    <tr>\n",
       "      <th>45</th>\n",
       "      <td>2020-03-07</td>\n",
       "      <td>7041</td>\n",
       "    </tr>\n",
       "    <tr>\n",
       "      <th>46</th>\n",
       "      <td>2020-03-08</td>\n",
       "      <td>7314</td>\n",
       "    </tr>\n",
       "    <tr>\n",
       "      <th>47</th>\n",
       "      <td>2020-03-09</td>\n",
       "      <td>7478</td>\n",
       "    </tr>\n",
       "    <tr>\n",
       "      <th>48</th>\n",
       "      <td>2020-03-10</td>\n",
       "      <td>7513</td>\n",
       "    </tr>\n",
       "    <tr>\n",
       "      <th>49</th>\n",
       "      <td>2020-03-11</td>\n",
       "      <td>7755</td>\n",
       "    </tr>\n",
       "  </tbody>\n",
       "</table>\n",
       "</div>"
      ],
      "text/plain": [
       "           ds     y\n",
       "45 2020-03-07  7041\n",
       "46 2020-03-08  7314\n",
       "47 2020-03-09  7478\n",
       "48 2020-03-10  7513\n",
       "49 2020-03-11  7755"
      ]
     },
     "execution_count": 6,
     "metadata": {},
     "output_type": "execute_result"
    }
   ],
   "source": [
    "df_prophet = df_korea.rename(columns={\n",
    "    'date': 'ds',\n",
    "    'confirmed': 'y'\n",
    "})\n",
    "\n",
    "df_prophet.tail()"
   ]
  },
  {
   "cell_type": "markdown",
   "metadata": {},
   "source": [
    "# Model: Facebook Prophet"
   ]
  },
  {
   "cell_type": "code",
   "execution_count": 7,
   "metadata": {},
   "outputs": [
    {
     "data": {
      "text/plain": [
       "<fbprophet.forecaster.Prophet at 0x10fd8ee90>"
      ]
     },
     "execution_count": 7,
     "metadata": {},
     "output_type": "execute_result"
    }
   ],
   "source": [
    "m = Prophet(\n",
    "    changepoint_prior_scale=0.2, # increasing it will make the trend more flexible\n",
    "    changepoint_range=0.98, # place potential changepoints in the first 98% of the time series\n",
    "    yearly_seasonality=False,\n",
    "    weekly_seasonality=False,\n",
    "    daily_seasonality=True,\n",
    "    seasonality_mode='additive'\n",
    ")\n",
    "\n",
    "m.fit(df_prophet)"
   ]
  },
  {
   "cell_type": "code",
   "execution_count": 8,
   "metadata": {},
   "outputs": [
    {
     "data": {
      "text/html": [
       "<div>\n",
       "<style scoped>\n",
       "    .dataframe tbody tr th:only-of-type {\n",
       "        vertical-align: middle;\n",
       "    }\n",
       "\n",
       "    .dataframe tbody tr th {\n",
       "        vertical-align: top;\n",
       "    }\n",
       "\n",
       "    .dataframe thead th {\n",
       "        text-align: right;\n",
       "    }\n",
       "</style>\n",
       "<table border=\"1\" class=\"dataframe\">\n",
       "  <thead>\n",
       "    <tr style=\"text-align: right;\">\n",
       "      <th></th>\n",
       "      <th>ds</th>\n",
       "      <th>trend</th>\n",
       "      <th>yhat_lower</th>\n",
       "      <th>yhat_upper</th>\n",
       "      <th>trend_lower</th>\n",
       "      <th>trend_upper</th>\n",
       "      <th>additive_terms</th>\n",
       "      <th>additive_terms_lower</th>\n",
       "      <th>additive_terms_upper</th>\n",
       "      <th>daily</th>\n",
       "      <th>daily_lower</th>\n",
       "      <th>daily_upper</th>\n",
       "      <th>multiplicative_terms</th>\n",
       "      <th>multiplicative_terms_lower</th>\n",
       "      <th>multiplicative_terms_upper</th>\n",
       "      <th>yhat</th>\n",
       "    </tr>\n",
       "  </thead>\n",
       "  <tbody>\n",
       "    <tr>\n",
       "      <th>50</th>\n",
       "      <td>2020-03-12</td>\n",
       "      <td>7857.758108</td>\n",
       "      <td>7806.475847</td>\n",
       "      <td>7911.537059</td>\n",
       "      <td>7845.236213</td>\n",
       "      <td>7874.827274</td>\n",
       "      <td>-1.89043</td>\n",
       "      <td>-1.89043</td>\n",
       "      <td>-1.89043</td>\n",
       "      <td>-1.89043</td>\n",
       "      <td>-1.89043</td>\n",
       "      <td>-1.89043</td>\n",
       "      <td>0.0</td>\n",
       "      <td>0.0</td>\n",
       "      <td>0.0</td>\n",
       "      <td>7855.867678</td>\n",
       "    </tr>\n",
       "    <tr>\n",
       "      <th>51</th>\n",
       "      <td>2020-03-13</td>\n",
       "      <td>7990.353835</td>\n",
       "      <td>7911.968058</td>\n",
       "      <td>8065.777202</td>\n",
       "      <td>7929.700462</td>\n",
       "      <td>8056.469252</td>\n",
       "      <td>-1.89043</td>\n",
       "      <td>-1.89043</td>\n",
       "      <td>-1.89043</td>\n",
       "      <td>-1.89043</td>\n",
       "      <td>-1.89043</td>\n",
       "      <td>-1.89043</td>\n",
       "      <td>0.0</td>\n",
       "      <td>0.0</td>\n",
       "      <td>0.0</td>\n",
       "      <td>7988.463405</td>\n",
       "    </tr>\n",
       "    <tr>\n",
       "      <th>52</th>\n",
       "      <td>2020-03-14</td>\n",
       "      <td>8122.949562</td>\n",
       "      <td>7985.822711</td>\n",
       "      <td>8269.591932</td>\n",
       "      <td>7998.004010</td>\n",
       "      <td>8257.841558</td>\n",
       "      <td>-1.89043</td>\n",
       "      <td>-1.89043</td>\n",
       "      <td>-1.89043</td>\n",
       "      <td>-1.89043</td>\n",
       "      <td>-1.89043</td>\n",
       "      <td>-1.89043</td>\n",
       "      <td>0.0</td>\n",
       "      <td>0.0</td>\n",
       "      <td>0.0</td>\n",
       "      <td>8121.059132</td>\n",
       "    </tr>\n",
       "    <tr>\n",
       "      <th>53</th>\n",
       "      <td>2020-03-15</td>\n",
       "      <td>8255.545289</td>\n",
       "      <td>8028.711002</td>\n",
       "      <td>8476.478477</td>\n",
       "      <td>8043.877085</td>\n",
       "      <td>8476.635082</td>\n",
       "      <td>-1.89043</td>\n",
       "      <td>-1.89043</td>\n",
       "      <td>-1.89043</td>\n",
       "      <td>-1.89043</td>\n",
       "      <td>-1.89043</td>\n",
       "      <td>-1.89043</td>\n",
       "      <td>0.0</td>\n",
       "      <td>0.0</td>\n",
       "      <td>0.0</td>\n",
       "      <td>8253.654859</td>\n",
       "    </tr>\n",
       "    <tr>\n",
       "      <th>54</th>\n",
       "      <td>2020-03-16</td>\n",
       "      <td>8388.141016</td>\n",
       "      <td>8061.375451</td>\n",
       "      <td>8723.501544</td>\n",
       "      <td>8070.887881</td>\n",
       "      <td>8729.319908</td>\n",
       "      <td>-1.89043</td>\n",
       "      <td>-1.89043</td>\n",
       "      <td>-1.89043</td>\n",
       "      <td>-1.89043</td>\n",
       "      <td>-1.89043</td>\n",
       "      <td>-1.89043</td>\n",
       "      <td>0.0</td>\n",
       "      <td>0.0</td>\n",
       "      <td>0.0</td>\n",
       "      <td>8386.250586</td>\n",
       "    </tr>\n",
       "    <tr>\n",
       "      <th>55</th>\n",
       "      <td>2020-03-17</td>\n",
       "      <td>8520.736743</td>\n",
       "      <td>8119.383034</td>\n",
       "      <td>8975.726797</td>\n",
       "      <td>8106.427493</td>\n",
       "      <td>8977.661669</td>\n",
       "      <td>-1.89043</td>\n",
       "      <td>-1.89043</td>\n",
       "      <td>-1.89043</td>\n",
       "      <td>-1.89043</td>\n",
       "      <td>-1.89043</td>\n",
       "      <td>-1.89043</td>\n",
       "      <td>0.0</td>\n",
       "      <td>0.0</td>\n",
       "      <td>0.0</td>\n",
       "      <td>8518.846313</td>\n",
       "    </tr>\n",
       "    <tr>\n",
       "      <th>56</th>\n",
       "      <td>2020-03-18</td>\n",
       "      <td>8653.332470</td>\n",
       "      <td>8106.936609</td>\n",
       "      <td>9234.425829</td>\n",
       "      <td>8116.968564</td>\n",
       "      <td>9233.253087</td>\n",
       "      <td>-1.89043</td>\n",
       "      <td>-1.89043</td>\n",
       "      <td>-1.89043</td>\n",
       "      <td>-1.89043</td>\n",
       "      <td>-1.89043</td>\n",
       "      <td>-1.89043</td>\n",
       "      <td>0.0</td>\n",
       "      <td>0.0</td>\n",
       "      <td>0.0</td>\n",
       "      <td>8651.442040</td>\n",
       "    </tr>\n",
       "  </tbody>\n",
       "</table>\n",
       "</div>"
      ],
      "text/plain": [
       "           ds        trend   yhat_lower   yhat_upper  trend_lower  \\\n",
       "50 2020-03-12  7857.758108  7806.475847  7911.537059  7845.236213   \n",
       "51 2020-03-13  7990.353835  7911.968058  8065.777202  7929.700462   \n",
       "52 2020-03-14  8122.949562  7985.822711  8269.591932  7998.004010   \n",
       "53 2020-03-15  8255.545289  8028.711002  8476.478477  8043.877085   \n",
       "54 2020-03-16  8388.141016  8061.375451  8723.501544  8070.887881   \n",
       "55 2020-03-17  8520.736743  8119.383034  8975.726797  8106.427493   \n",
       "56 2020-03-18  8653.332470  8106.936609  9234.425829  8116.968564   \n",
       "\n",
       "    trend_upper  additive_terms  additive_terms_lower  additive_terms_upper  \\\n",
       "50  7874.827274        -1.89043              -1.89043              -1.89043   \n",
       "51  8056.469252        -1.89043              -1.89043              -1.89043   \n",
       "52  8257.841558        -1.89043              -1.89043              -1.89043   \n",
       "53  8476.635082        -1.89043              -1.89043              -1.89043   \n",
       "54  8729.319908        -1.89043              -1.89043              -1.89043   \n",
       "55  8977.661669        -1.89043              -1.89043              -1.89043   \n",
       "56  9233.253087        -1.89043              -1.89043              -1.89043   \n",
       "\n",
       "      daily  daily_lower  daily_upper  multiplicative_terms  \\\n",
       "50 -1.89043     -1.89043     -1.89043                   0.0   \n",
       "51 -1.89043     -1.89043     -1.89043                   0.0   \n",
       "52 -1.89043     -1.89043     -1.89043                   0.0   \n",
       "53 -1.89043     -1.89043     -1.89043                   0.0   \n",
       "54 -1.89043     -1.89043     -1.89043                   0.0   \n",
       "55 -1.89043     -1.89043     -1.89043                   0.0   \n",
       "56 -1.89043     -1.89043     -1.89043                   0.0   \n",
       "\n",
       "    multiplicative_terms_lower  multiplicative_terms_upper         yhat  \n",
       "50                         0.0                         0.0  7855.867678  \n",
       "51                         0.0                         0.0  7988.463405  \n",
       "52                         0.0                         0.0  8121.059132  \n",
       "53                         0.0                         0.0  8253.654859  \n",
       "54                         0.0                         0.0  8386.250586  \n",
       "55                         0.0                         0.0  8518.846313  \n",
       "56                         0.0                         0.0  8651.442040  "
      ]
     },
     "execution_count": 8,
     "metadata": {},
     "output_type": "execute_result"
    }
   ],
   "source": [
    "future = m.make_future_dataframe(periods=7)\n",
    "forecast = m.predict(future)\n",
    "forecast.tail(7)"
   ]
  },
  {
   "cell_type": "code",
   "execution_count": 9,
   "metadata": {},
   "outputs": [
    {
     "data": {
      "image/png": "[encoded data removed]",
      "text/plain": [
       "<Figure size 720x432 with 1 Axes>"
      ]
     },
     "metadata": {},
     "output_type": "display_data"
    }
   ],
   "source": [
    "fig = m.plot(forecast)"
   ]
  },
  {
   "cell_type": "code",
   "execution_count": 10,
   "metadata": {},
   "outputs": [
    {
     "data": {
      "image/png": "[encoded data removed]",
      "text/plain": [
       "<Figure size 720x432 with 1 Axes>"
      ]
     },
     "metadata": {},
     "output_type": "display_data"
    }
   ],
   "source": [
    "fig = m.plot(forecast)\n",
    "a = add_changepoints_to_plot(fig.gca(), m, forecast)"
   ]
  },
  {
   "cell_type": "code",
   "execution_count": null,
   "metadata": {},
   "outputs": [],
   "source": []
  },
  {
   "cell_type": "code",
   "execution_count": null,
   "metadata": {},
   "outputs": [],
   "source": []
  }
 ],
 "metadata": {
  "kernelspec": {
   "display_name": "Python 3",
   "language": "python",
   "name": "python3"
  },
  "language_info": {
   "codemirror_mode": {
    "name": "ipython",
    "version": 3
   },
   "file_extension": ".py",
   "mimetype": "text/x-python",
   "name": "python",
   "nbconvert_exporter": "python",
   "pygments_lexer": "ipython3",
   "version": "3.7.4"
  }
 },
 "nbformat": 4,
 "nbformat_minor": 1
}
