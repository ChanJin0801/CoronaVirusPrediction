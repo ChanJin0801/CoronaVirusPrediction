{
 "cells": [
  {
   "cell_type": "code",
   "execution_count": 24,
   "metadata": {},
   "outputs": [],
   "source": [
    "import pandas as pd\n",
    "import plotly.graph_objs as go\n",
    "import plotly.offline as py\n",
    "from fbprophet import Prophet\n",
    "from fbprophet.plot import plot_plotly, add_changepoints_to_plot\n",
    "import matplotlib.pyplot as plt"
   ]
  },
  {
   "cell_type": "markdown",
   "metadata": {},
   "source": [
    "# Loading data"
   ]
  },
  {
   "cell_type": "code",
   "execution_count": 25,
   "metadata": {},
   "outputs": [],
   "source": [
    "# Retreive data from Johns Hopkins University realtime COVID19 case upload\n",
    "# https://github.com/CSSEGISandData/COVID-19\n",
    "\n",
    "# Regional Confirmed cases dataframe across the world\n",
    "url = 'https://raw.githubusercontent.com/CSSEGISandData/COVID-19/master/csse_covid_19_data/csse_covid_19_time_series/time_series_19-covid-Confirmed.csv'\n",
    "confirmed = pd.read_csv(url, error_bad_lines=False)\n",
    "\n",
    "# Regional Deceases cases dataframe across the world\n",
    "url = 'https://raw.githubusercontent.com/CSSEGISandData/COVID-19/master/csse_covid_19_data/csse_covid_19_time_series/time_series_19-covid-Deaths.csv'\n",
    "death = pd.read_csv(url, error_bad_lines=False)\n",
    "\n",
    "# Regional Recovered cases dataframe across the world\n",
    "url = 'https://raw.githubusercontent.com/CSSEGISandData/COVID-19/master/csse_covid_19_data/csse_covid_19_time_series/time_series_19-covid-Recovered.csv'\n",
    "recover = pd.read_csv(url, error_bad_lines=False)"
   ]
  },
  {
   "cell_type": "code",
   "execution_count": 26,
   "metadata": {},
   "outputs": [
    {
     "data": {
      "text/plain": [
       "Index(['3/11/20'], dtype='object')"
      ]
     },
     "execution_count": 26,
     "metadata": {},
     "output_type": "execute_result"
    }
   ],
   "source": [
    "# Check the latest dataset's date\n",
    "confirmed.columns[-1:]"
   ]
  },
  {
   "cell_type": "code",
   "execution_count": 27,
   "metadata": {},
   "outputs": [
    {
     "data": {
      "text/html": [
       "<div>\n",
       "<style scoped>\n",
       "    .dataframe tbody tr th:only-of-type {\n",
       "        vertical-align: middle;\n",
       "    }\n",
       "\n",
       "    .dataframe tbody tr th {\n",
       "        vertical-align: top;\n",
       "    }\n",
       "\n",
       "    .dataframe thead th {\n",
       "        text-align: right;\n",
       "    }\n",
       "</style>\n",
       "<table border=\"1\" class=\"dataframe\">\n",
       "  <thead>\n",
       "    <tr style=\"text-align: right;\">\n",
       "      <th></th>\n",
       "      <th>Province/State</th>\n",
       "      <th>Country/Region</th>\n",
       "      <th>Lat</th>\n",
       "      <th>Long</th>\n",
       "      <th>1/22/20</th>\n",
       "      <th>1/23/20</th>\n",
       "      <th>1/24/20</th>\n",
       "      <th>1/25/20</th>\n",
       "      <th>1/26/20</th>\n",
       "      <th>1/27/20</th>\n",
       "      <th>...</th>\n",
       "      <th>3/2/20</th>\n",
       "      <th>3/3/20</th>\n",
       "      <th>3/4/20</th>\n",
       "      <th>3/5/20</th>\n",
       "      <th>3/6/20</th>\n",
       "      <th>3/7/20</th>\n",
       "      <th>3/8/20</th>\n",
       "      <th>3/9/20</th>\n",
       "      <th>3/10/20</th>\n",
       "      <th>3/11/20</th>\n",
       "    </tr>\n",
       "  </thead>\n",
       "  <tbody>\n",
       "    <tr>\n",
       "      <th>158</th>\n",
       "      <td>NaN</td>\n",
       "      <td>Korea, South</td>\n",
       "      <td>36.0</td>\n",
       "      <td>128.0</td>\n",
       "      <td>1</td>\n",
       "      <td>1</td>\n",
       "      <td>2</td>\n",
       "      <td>2</td>\n",
       "      <td>3</td>\n",
       "      <td>4</td>\n",
       "      <td>...</td>\n",
       "      <td>4335</td>\n",
       "      <td>5186</td>\n",
       "      <td>5621</td>\n",
       "      <td>6088</td>\n",
       "      <td>6593</td>\n",
       "      <td>7041</td>\n",
       "      <td>7314</td>\n",
       "      <td>7478</td>\n",
       "      <td>7513</td>\n",
       "      <td>7755</td>\n",
       "    </tr>\n",
       "  </tbody>\n",
       "</table>\n",
       "<p>1 rows × 54 columns</p>\n",
       "</div>"
      ],
      "text/plain": [
       "    Province/State Country/Region   Lat   Long  1/22/20  1/23/20  1/24/20  \\\n",
       "158            NaN   Korea, South  36.0  128.0        1        1        2   \n",
       "\n",
       "     1/25/20  1/26/20  1/27/20  ...  3/2/20  3/3/20  3/4/20  3/5/20  3/6/20  \\\n",
       "158        2        3        4  ...    4335    5186    5621    6088    6593   \n",
       "\n",
       "     3/7/20  3/8/20  3/9/20  3/10/20  3/11/20  \n",
       "158    7041    7314    7478     7513     7755  \n",
       "\n",
       "[1 rows x 54 columns]"
      ]
     },
     "execution_count": 27,
     "metadata": {},
     "output_type": "execute_result"
    }
   ],
   "source": [
    "# Make Korea's confirmed cases timeseries dataframe\n",
    "df_korea = confirmed[confirmed['Country/Region'] == 'Korea, South']\n",
    "df_korea"
   ]
  },
  {
   "cell_type": "markdown",
   "metadata": {},
   "source": [
    "# Load other nation's confirmed cases"
   ]
  },
  {
   "cell_type": "code",
   "execution_count": 28,
   "metadata": {},
   "outputs": [
    {
     "data": {
      "text/plain": [
       "array(['Thailand', 'Japan', 'Singapore', 'Nepal', 'Malaysia', 'Canada',\n",
       "       'Australia', 'Cambodia', 'Sri Lanka', 'Germany', 'Finland',\n",
       "       'United Arab Emirates', 'Philippines', 'India', 'Italy', 'Sweden',\n",
       "       'Spain', 'Belgium', 'Egypt', 'Lebanon', 'Iraq', 'Oman',\n",
       "       'Afghanistan', 'Bahrain', 'Kuwait', 'Algeria', 'Croatia',\n",
       "       'Switzerland', 'Austria', 'Israel', 'Pakistan', 'Brazil',\n",
       "       'Georgia', 'Greece', 'North Macedonia', 'Norway', 'Romania',\n",
       "       'Estonia', 'Netherlands', 'San Marino', 'Belarus', 'Iceland',\n",
       "       'Lithuania', 'Mexico', 'New Zealand', 'Nigeria', 'Ireland',\n",
       "       'Luxembourg', 'Monaco', 'Qatar', 'Ecuador', 'Azerbaijan',\n",
       "       'Armenia', 'Dominican Republic', 'Indonesia', 'Portugal',\n",
       "       'Andorra', 'Latvia', 'Morocco', 'Saudi Arabia', 'Senegal',\n",
       "       'Argentina', 'Chile', 'Jordan', 'Ukraine', 'Hungary',\n",
       "       'Liechtenstein', 'Poland', 'Tunisia', 'Bosnia and Herzegovina',\n",
       "       'Slovenia', 'South Africa', 'Bhutan', 'Cameroon', 'Colombia',\n",
       "       'Costa Rica', 'Peru', 'Serbia', 'Slovakia', 'Togo',\n",
       "       'French Guiana', 'Malta', 'Martinique', 'Bulgaria', 'Maldives',\n",
       "       'Bangladesh', 'Paraguay', 'Albania', 'Cyprus', 'Brunei', 'US',\n",
       "       'Burkina Faso', 'Holy See', 'Mongolia', 'Panama', 'China', 'Iran',\n",
       "       'Korea, South', 'France', 'Cruise Ship', 'United Kingdom',\n",
       "       'Denmark', 'Czechia', 'Taiwan*', 'Vietnam', 'Russia', 'Moldova',\n",
       "       'Bolivia', 'Honduras', 'Congo (Kinshasa)', \"Cote d'Ivoire\",\n",
       "       'Jamaica', 'Reunion', 'Turkey'], dtype=object)"
      ]
     },
     "execution_count": 28,
     "metadata": {},
     "output_type": "execute_result"
    }
   ],
   "source": [
    "confirmed['Country/Region'].unique()"
   ]
  },
  {
   "cell_type": "code",
   "execution_count": 29,
   "metadata": {},
   "outputs": [],
   "source": [
    "# United State and China's cases are divided into States or Provinces(省). \n",
    "# United State's Cases\n",
    "df_US = confirmed[confirmed['Country/Region'] == 'US']\n",
    "# df_US\n",
    "\n",
    "# Following is example of dataframe for Los Angeles\n",
    "df_LA = df_US[df_US[\"Province/State\"] == \"Los Angeles, CA\"]\n",
    "#df_LA\n",
    "\n",
    "# Rest of the regions are aggregation of nation's entire cases\n",
    "# Following is example of dataframe of Italy's confirmed Cases\n",
    "df_IT = confirmed[confirmed['Country/Region'] == 'Italy']\n",
    "#df_IT"
   ]
  },
  {
   "cell_type": "markdown",
   "metadata": {},
   "source": [
    "# Mining data"
   ]
  },
  {
   "cell_type": "code",
   "execution_count": 30,
   "metadata": {},
   "outputs": [
    {
     "data": {
      "text/html": [
       "<div>\n",
       "<style scoped>\n",
       "    .dataframe tbody tr th:only-of-type {\n",
       "        vertical-align: middle;\n",
       "    }\n",
       "\n",
       "    .dataframe tbody tr th {\n",
       "        vertical-align: top;\n",
       "    }\n",
       "\n",
       "    .dataframe thead th {\n",
       "        text-align: right;\n",
       "    }\n",
       "</style>\n",
       "<table border=\"1\" class=\"dataframe\">\n",
       "  <thead>\n",
       "    <tr style=\"text-align: right;\">\n",
       "      <th></th>\n",
       "      <th>date</th>\n",
       "      <th>confirmed</th>\n",
       "    </tr>\n",
       "  </thead>\n",
       "  <tbody>\n",
       "    <tr>\n",
       "      <th>45</th>\n",
       "      <td>2020-03-07</td>\n",
       "      <td>7041</td>\n",
       "    </tr>\n",
       "    <tr>\n",
       "      <th>46</th>\n",
       "      <td>2020-03-08</td>\n",
       "      <td>7314</td>\n",
       "    </tr>\n",
       "    <tr>\n",
       "      <th>47</th>\n",
       "      <td>2020-03-09</td>\n",
       "      <td>7478</td>\n",
       "    </tr>\n",
       "    <tr>\n",
       "      <th>48</th>\n",
       "      <td>2020-03-10</td>\n",
       "      <td>7513</td>\n",
       "    </tr>\n",
       "    <tr>\n",
       "      <th>49</th>\n",
       "      <td>2020-03-11</td>\n",
       "      <td>7755</td>\n",
       "    </tr>\n",
       "  </tbody>\n",
       "</table>\n",
       "</div>"
      ],
      "text/plain": [
       "         date confirmed\n",
       "45 2020-03-07      7041\n",
       "46 2020-03-08      7314\n",
       "47 2020-03-09      7478\n",
       "48 2020-03-10      7513\n",
       "49 2020-03-11      7755"
      ]
     },
     "execution_count": 30,
     "metadata": {},
     "output_type": "execute_result"
    }
   ],
   "source": [
    "df_korea = df_korea.T[4:]\n",
    "\n",
    "# Make Korean confirmed timeseries dataframe into two rows: date and number of confirmed cases\n",
    "df_korea = df_korea.reset_index().rename(columns={'index': 'date', 158: 'confirmed'})\n",
    "\n",
    "df_korea['date'] = pd.to_datetime(df_korea['date'])\n",
    "\n",
    "# Check the most recent 5 days of Korean confirmed cases \n",
    "df_korea.tail()"
   ]
  },
  {
   "cell_type": "code",
   "execution_count": 31,
   "metadata": {},
   "outputs": [
    {
     "data": {
      "image/png": "[encoded data removed]",
      "text/plain": [
       "<Figure size 1440x720 with 1 Axes>"
      ]
     },
     "metadata": {},
     "output_type": "display_data"
    }
   ],
   "source": [
    "# Plot Korean COVID19 confirmed cases \n",
    "plt.figure(facecolor='white', figsize=(20, 10))\n",
    "\n",
    "plt.plot(df_korea.date, df_korea.confirmed, \n",
    "            label=\"confirmed in Korea\")\n",
    "plt.xlabel(\"Date\")\n",
    "plt.ylabel(\"Confirmed\")\n",
    "plt.legend()\n",
    "plt.show()"
   ]
  },
  {
   "cell_type": "markdown",
   "metadata": {},
   "source": [
    "# Facebook Prophet"
   ]
  },
  {
   "cell_type": "code",
   "execution_count": 32,
   "metadata": {},
   "outputs": [
    {
     "data": {
      "text/html": [
       "<div>\n",
       "<style scoped>\n",
       "    .dataframe tbody tr th:only-of-type {\n",
       "        vertical-align: middle;\n",
       "    }\n",
       "\n",
       "    .dataframe tbody tr th {\n",
       "        vertical-align: top;\n",
       "    }\n",
       "\n",
       "    .dataframe thead th {\n",
       "        text-align: right;\n",
       "    }\n",
       "</style>\n",
       "<table border=\"1\" class=\"dataframe\">\n",
       "  <thead>\n",
       "    <tr style=\"text-align: right;\">\n",
       "      <th></th>\n",
       "      <th>ds</th>\n",
       "      <th>y</th>\n",
       "    </tr>\n",
       "  </thead>\n",
       "  <tbody>\n",
       "    <tr>\n",
       "      <th>45</th>\n",
       "      <td>2020-03-07</td>\n",
       "      <td>7041</td>\n",
       "    </tr>\n",
       "    <tr>\n",
       "      <th>46</th>\n",
       "      <td>2020-03-08</td>\n",
       "      <td>7314</td>\n",
       "    </tr>\n",
       "    <tr>\n",
       "      <th>47</th>\n",
       "      <td>2020-03-09</td>\n",
       "      <td>7478</td>\n",
       "    </tr>\n",
       "    <tr>\n",
       "      <th>48</th>\n",
       "      <td>2020-03-10</td>\n",
       "      <td>7513</td>\n",
       "    </tr>\n",
       "    <tr>\n",
       "      <th>49</th>\n",
       "      <td>2020-03-11</td>\n",
       "      <td>7755</td>\n",
       "    </tr>\n",
       "  </tbody>\n",
       "</table>\n",
       "</div>"
      ],
      "text/plain": [
       "           ds     y\n",
       "45 2020-03-07  7041\n",
       "46 2020-03-08  7314\n",
       "47 2020-03-09  7478\n",
       "48 2020-03-10  7513\n",
       "49 2020-03-11  7755"
      ]
     },
     "execution_count": 32,
     "metadata": {},
     "output_type": "execute_result"
    }
   ],
   "source": [
    "# Make dataframe for Facebook Prophet prediction model\n",
    "df_prophet = df_korea.rename(columns={\n",
    "    'date': 'ds',\n",
    "    'confirmed': 'y'\n",
    "})\n",
    "\n",
    "df_prophet.tail()"
   ]
  },
  {
   "cell_type": "markdown",
   "metadata": {},
   "source": [
    "# Create a model"
   ]
  },
  {
   "cell_type": "markdown",
   "metadata": {},
   "source": [
    "# Add changepoints for flexibility"
   ]
  },
  {
   "cell_type": "code",
   "execution_count": 33,
   "metadata": {},
   "outputs": [
    {
     "data": {
      "text/plain": [
       "<fbprophet.forecaster.Prophet at 0x111819a50>"
      ]
     },
     "execution_count": 33,
     "metadata": {},
     "output_type": "execute_result"
    }
   ],
   "source": [
    "m = Prophet(\n",
    "    changepoint_prior_scale=0.2, # increasing it will make the trend more flexible\n",
    "    changepoint_range=0.98, # place potential changepoints in the first 98% of the time series\n",
    "    yearly_seasonality=False,\n",
    "    weekly_seasonality=False,\n",
    "    daily_seasonality=True,\n",
    "    seasonality_mode='additive'\n",
    ")\n",
    "m.fit(df_prophet)"
   ]
  },
  {
   "cell_type": "code",
   "execution_count": 34,
   "metadata": {},
   "outputs": [],
   "source": [
    "def predict_sequence_full(m, df_prophet, n):\n",
    "    for i in range(n):\n",
    "        \n",
    "        future = m.make_future_dataframe(periods=1)\n",
    "        forecast = m.predict(future)\n",
    "        temp = pd.concat([future[-1:], forecast[-1:]['yhat']], axis=1)\n",
    "        temp = temp.rename(columns = {'yhat':'y'})\n",
    "        df_prophet = df_prophet.append(temp)\n",
    "        \n",
    "        m = Prophet(\n",
    "            changepoint_prior_scale=0.2, # increasing it will make the trend more flexible\n",
    "            changepoint_range=0.98, # place potential changepoints in the first 98% of the time series\n",
    "            yearly_seasonality=False,\n",
    "            weekly_seasonality=False,\n",
    "            daily_seasonality=True,\n",
    "            seasonality_mode='additive'\n",
    "        )\n",
    "        m.fit(df_prophet)\n",
    "        \n",
    "    return forecast"
   ]
  },
  {
   "cell_type": "code",
   "execution_count": 35,
   "metadata": {},
   "outputs": [],
   "source": [
    "forecast = predict_sequence_full(m, df_prophet, 7)"
   ]
  },
  {
   "cell_type": "code",
   "execution_count": 36,
   "metadata": {},
   "outputs": [
    {
     "data": {
      "text/html": [
       "<div>\n",
       "<style scoped>\n",
       "    .dataframe tbody tr th:only-of-type {\n",
       "        vertical-align: middle;\n",
       "    }\n",
       "\n",
       "    .dataframe tbody tr th {\n",
       "        vertical-align: top;\n",
       "    }\n",
       "\n",
       "    .dataframe thead th {\n",
       "        text-align: right;\n",
       "    }\n",
       "</style>\n",
       "<table border=\"1\" class=\"dataframe\">\n",
       "  <thead>\n",
       "    <tr style=\"text-align: right;\">\n",
       "      <th></th>\n",
       "      <th>ds</th>\n",
       "      <th>trend</th>\n",
       "      <th>yhat_lower</th>\n",
       "      <th>yhat_upper</th>\n",
       "      <th>trend_lower</th>\n",
       "      <th>trend_upper</th>\n",
       "      <th>additive_terms</th>\n",
       "      <th>additive_terms_lower</th>\n",
       "      <th>additive_terms_upper</th>\n",
       "      <th>daily</th>\n",
       "      <th>daily_lower</th>\n",
       "      <th>daily_upper</th>\n",
       "      <th>multiplicative_terms</th>\n",
       "      <th>multiplicative_terms_lower</th>\n",
       "      <th>multiplicative_terms_upper</th>\n",
       "      <th>yhat</th>\n",
       "    </tr>\n",
       "  </thead>\n",
       "  <tbody>\n",
       "    <tr>\n",
       "      <th>50</th>\n",
       "      <td>2020-03-12</td>\n",
       "      <td>7858.729521</td>\n",
       "      <td>7815.822190</td>\n",
       "      <td>7901.741916</td>\n",
       "      <td>7858.729521</td>\n",
       "      <td>7858.729521</td>\n",
       "      <td>-1.809034</td>\n",
       "      <td>-1.809034</td>\n",
       "      <td>-1.809034</td>\n",
       "      <td>-1.809034</td>\n",
       "      <td>-1.809034</td>\n",
       "      <td>-1.809034</td>\n",
       "      <td>0.0</td>\n",
       "      <td>0.0</td>\n",
       "      <td>0.0</td>\n",
       "      <td>7856.920486</td>\n",
       "    </tr>\n",
       "    <tr>\n",
       "      <th>51</th>\n",
       "      <td>2020-03-13</td>\n",
       "      <td>7992.108152</td>\n",
       "      <td>7946.955844</td>\n",
       "      <td>8035.024533</td>\n",
       "      <td>7992.108152</td>\n",
       "      <td>7992.108152</td>\n",
       "      <td>-1.809034</td>\n",
       "      <td>-1.809034</td>\n",
       "      <td>-1.809034</td>\n",
       "      <td>-1.809034</td>\n",
       "      <td>-1.809034</td>\n",
       "      <td>-1.809034</td>\n",
       "      <td>0.0</td>\n",
       "      <td>0.0</td>\n",
       "      <td>0.0</td>\n",
       "      <td>7990.299117</td>\n",
       "    </tr>\n",
       "    <tr>\n",
       "      <th>52</th>\n",
       "      <td>2020-03-14</td>\n",
       "      <td>8125.486782</td>\n",
       "      <td>8082.109265</td>\n",
       "      <td>8164.420016</td>\n",
       "      <td>8125.486782</td>\n",
       "      <td>8125.486782</td>\n",
       "      <td>-1.809034</td>\n",
       "      <td>-1.809034</td>\n",
       "      <td>-1.809034</td>\n",
       "      <td>-1.809034</td>\n",
       "      <td>-1.809034</td>\n",
       "      <td>-1.809034</td>\n",
       "      <td>0.0</td>\n",
       "      <td>0.0</td>\n",
       "      <td>0.0</td>\n",
       "      <td>8123.677747</td>\n",
       "    </tr>\n",
       "    <tr>\n",
       "      <th>53</th>\n",
       "      <td>2020-03-15</td>\n",
       "      <td>8258.865412</td>\n",
       "      <td>8212.361087</td>\n",
       "      <td>8302.879117</td>\n",
       "      <td>8258.865412</td>\n",
       "      <td>8258.865412</td>\n",
       "      <td>-1.809034</td>\n",
       "      <td>-1.809034</td>\n",
       "      <td>-1.809034</td>\n",
       "      <td>-1.809034</td>\n",
       "      <td>-1.809034</td>\n",
       "      <td>-1.809034</td>\n",
       "      <td>0.0</td>\n",
       "      <td>0.0</td>\n",
       "      <td>0.0</td>\n",
       "      <td>8257.056378</td>\n",
       "    </tr>\n",
       "    <tr>\n",
       "      <th>54</th>\n",
       "      <td>2020-03-16</td>\n",
       "      <td>8392.244043</td>\n",
       "      <td>8345.390763</td>\n",
       "      <td>8433.284734</td>\n",
       "      <td>8392.244043</td>\n",
       "      <td>8392.244043</td>\n",
       "      <td>-1.809034</td>\n",
       "      <td>-1.809034</td>\n",
       "      <td>-1.809034</td>\n",
       "      <td>-1.809034</td>\n",
       "      <td>-1.809034</td>\n",
       "      <td>-1.809034</td>\n",
       "      <td>0.0</td>\n",
       "      <td>0.0</td>\n",
       "      <td>0.0</td>\n",
       "      <td>8390.435008</td>\n",
       "    </tr>\n",
       "    <tr>\n",
       "      <th>55</th>\n",
       "      <td>2020-03-17</td>\n",
       "      <td>8525.622673</td>\n",
       "      <td>8477.861883</td>\n",
       "      <td>8569.296457</td>\n",
       "      <td>8525.622673</td>\n",
       "      <td>8525.622673</td>\n",
       "      <td>-1.809034</td>\n",
       "      <td>-1.809034</td>\n",
       "      <td>-1.809034</td>\n",
       "      <td>-1.809034</td>\n",
       "      <td>-1.809034</td>\n",
       "      <td>-1.809034</td>\n",
       "      <td>0.0</td>\n",
       "      <td>0.0</td>\n",
       "      <td>0.0</td>\n",
       "      <td>8523.813639</td>\n",
       "    </tr>\n",
       "    <tr>\n",
       "      <th>56</th>\n",
       "      <td>2020-03-18</td>\n",
       "      <td>8659.001304</td>\n",
       "      <td>8604.003597</td>\n",
       "      <td>8708.661309</td>\n",
       "      <td>8643.998544</td>\n",
       "      <td>8669.710519</td>\n",
       "      <td>-1.809034</td>\n",
       "      <td>-1.809034</td>\n",
       "      <td>-1.809034</td>\n",
       "      <td>-1.809034</td>\n",
       "      <td>-1.809034</td>\n",
       "      <td>-1.809034</td>\n",
       "      <td>0.0</td>\n",
       "      <td>0.0</td>\n",
       "      <td>0.0</td>\n",
       "      <td>8657.192269</td>\n",
       "    </tr>\n",
       "  </tbody>\n",
       "</table>\n",
       "</div>"
      ],
      "text/plain": [
       "           ds        trend   yhat_lower   yhat_upper  trend_lower  \\\n",
       "50 2020-03-12  7858.729521  7815.822190  7901.741916  7858.729521   \n",
       "51 2020-03-13  7992.108152  7946.955844  8035.024533  7992.108152   \n",
       "52 2020-03-14  8125.486782  8082.109265  8164.420016  8125.486782   \n",
       "53 2020-03-15  8258.865412  8212.361087  8302.879117  8258.865412   \n",
       "54 2020-03-16  8392.244043  8345.390763  8433.284734  8392.244043   \n",
       "55 2020-03-17  8525.622673  8477.861883  8569.296457  8525.622673   \n",
       "56 2020-03-18  8659.001304  8604.003597  8708.661309  8643.998544   \n",
       "\n",
       "    trend_upper  additive_terms  additive_terms_lower  additive_terms_upper  \\\n",
       "50  7858.729521       -1.809034             -1.809034             -1.809034   \n",
       "51  7992.108152       -1.809034             -1.809034             -1.809034   \n",
       "52  8125.486782       -1.809034             -1.809034             -1.809034   \n",
       "53  8258.865412       -1.809034             -1.809034             -1.809034   \n",
       "54  8392.244043       -1.809034             -1.809034             -1.809034   \n",
       "55  8525.622673       -1.809034             -1.809034             -1.809034   \n",
       "56  8669.710519       -1.809034             -1.809034             -1.809034   \n",
       "\n",
       "       daily  daily_lower  daily_upper  multiplicative_terms  \\\n",
       "50 -1.809034    -1.809034    -1.809034                   0.0   \n",
       "51 -1.809034    -1.809034    -1.809034                   0.0   \n",
       "52 -1.809034    -1.809034    -1.809034                   0.0   \n",
       "53 -1.809034    -1.809034    -1.809034                   0.0   \n",
       "54 -1.809034    -1.809034    -1.809034                   0.0   \n",
       "55 -1.809034    -1.809034    -1.809034                   0.0   \n",
       "56 -1.809034    -1.809034    -1.809034                   0.0   \n",
       "\n",
       "    multiplicative_terms_lower  multiplicative_terms_upper         yhat  \n",
       "50                         0.0                         0.0  7856.920486  \n",
       "51                         0.0                         0.0  7990.299117  \n",
       "52                         0.0                         0.0  8123.677747  \n",
       "53                         0.0                         0.0  8257.056378  \n",
       "54                         0.0                         0.0  8390.435008  \n",
       "55                         0.0                         0.0  8523.813639  \n",
       "56                         0.0                         0.0  8657.192269  "
      ]
     },
     "execution_count": 36,
     "metadata": {},
     "output_type": "execute_result"
    }
   ],
   "source": [
    "forecast.tail(7)"
   ]
  },
  {
   "cell_type": "code",
   "execution_count": 37,
   "metadata": {},
   "outputs": [
    {
     "data": {
      "image/png": "[encoded data removed]",
      "text/plain": [
       "<Figure size 720x432 with 1 Axes>"
      ]
     },
     "metadata": {},
     "output_type": "display_data"
    }
   ],
   "source": [
    "fig = m.plot(forecast)"
   ]
  },
  {
   "cell_type": "markdown",
   "metadata": {},
   "source": [
    "# Plot changepoints until now"
   ]
  },
  {
   "cell_type": "code",
   "execution_count": 38,
   "metadata": {},
   "outputs": [
    {
     "data": {
      "image/png": "[encoded data removed]",
      "text/plain": [
       "<Figure size 720x432 with 1 Axes>"
      ]
     },
     "metadata": {},
     "output_type": "display_data"
    }
   ],
   "source": [
    "fig = m.plot(forecast)\n",
    "a = add_changepoints_to_plot(fig.gca(), m, forecast)"
   ]
  },
  {
   "cell_type": "code",
   "execution_count": null,
   "metadata": {},
   "outputs": [],
   "source": []
  }
 ],
 "metadata": {
  "kernelspec": {
   "display_name": "Python 3",
   "language": "python",
   "name": "python3"
  },
  "language_info": {
   "codemirror_mode": {
    "name": "ipython",
    "version": 3
   },
   "file_extension": ".py",
   "mimetype": "text/x-python",
   "name": "python",
   "nbconvert_exporter": "python",
   "pygments_lexer": "ipython3",
   "version": "3.7.4"
  }
 },
 "nbformat": 4,
 "nbformat_minor": 1
}
